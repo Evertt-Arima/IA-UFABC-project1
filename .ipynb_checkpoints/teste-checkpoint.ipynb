{
 "cells": [
  {
   "cell_type": "code",
   "execution_count": null,
   "metadata": {},
   "outputs": [],
   "source": [
    "import glob as gb\n",
    "import numpy as np\n",
    "import pandas as pd"
   ]
  },
  {
   "cell_type": "code",
   "execution_count": null,
   "metadata": {},
   "outputs": [],
   "source": [
    "class User():\n",
    "    def __init__(self, user, data):\n",
    "        self.user = user\n",
    "        self.data = data\n",
    "    \n",
    "    def imprime(self):\n",
    "        print (f\"O usuário {self.user} tem os seguintes dados:\")\n",
    "        print (self.data)\n",
    "\n",
    "    def imprime_axis(self, axis):\n",
    "        if (axis == \"x\"):\n",
    "            print (self.data.x)\n",
    "        elif (axis == \"y\"):\n",
    "            print (self.data.y)\n",
    "        else:\n",
    "            print (self.data.z)\n",
    "    "
   ]
  },
  {
   "cell_type": "code",
   "execution_count": null,
   "metadata": {},
   "outputs": [],
   "source": [
    "def gen(user):\n",
    "    sess1_files = gb.glob(\"user_coordinates/*session1*.txt\")\n",
    "    dfraw = pd.read_csv(sess1_files[user], sep=\",\", header=None)\n",
    "    dfraw.columns = [\"x\", \"y\", \"z\"]\n",
    "    return dfraw"
   ]
  },
  {
   "cell_type": "code",
   "execution_count": null,
   "metadata": {},
   "outputs": [],
   "source": [
    "teste = gen(1)\n",
    "print(teste)"
   ]
  },
  {
   "cell_type": "code",
   "execution_count": null,
   "metadata": {},
   "outputs": [],
   "source": [
    "u1 = User(1, teste)\n",
    "print(u1)"
   ]
  },
  {
   "cell_type": "code",
   "execution_count": null,
   "metadata": {},
   "outputs": [],
   "source": [
    "u1.imprime_axis('z')"
   ]
  },
  {
   "cell_type": "code",
   "execution_count": null,
   "metadata": {},
   "outputs": [],
   "source": [
    "u1.imprime()"
   ]
  },
  {
   "cell_type": "code",
   "execution_count": null,
   "metadata": {},
   "outputs": [],
   "source": []
  }
 ],
 "metadata": {
  "kernelspec": {
   "display_name": "Python 3",
   "language": "python",
   "name": "python3"
  },
  "language_info": {
   "codemirror_mode": {
    "name": "ipython",
    "version": 3
   },
   "file_extension": ".py",
   "mimetype": "text/x-python",
   "name": "python",
   "nbconvert_exporter": "python",
   "pygments_lexer": "ipython3",
   "version": "3.7.3"
  }
 },
 "nbformat": 4,
 "nbformat_minor": 2
}
